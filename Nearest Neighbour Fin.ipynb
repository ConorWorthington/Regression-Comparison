{
 "cells": [
  {
   "cell_type": "code",
   "execution_count": 1,
   "metadata": {},
   "outputs": [],
   "source": [
    "import matplotlib.pyplot as plt\n",
    "import numpy as np\n",
    "import tensorflow as tf\n",
    "import math \n",
    "from csv import reader \n",
    "from collections import Counter\n",
    "\n"
   ]
  },
  {
   "cell_type": "code",
   "execution_count": 11,
   "metadata": {},
   "outputs": [],
   "source": [
    "def calcDistance(a,b):\n",
    "    distance = 0\n",
    "    for i in range(len(a)):\n",
    "        distance += (a[i]-b[i])**2\n",
    "    math.sqrt(distance)\n",
    "    return distance"
   ]
  },
  {
   "cell_type": "code",
   "execution_count": 3,
   "metadata": {},
   "outputs": [],
   "source": [
    "def testDataSet(trainingSet,testSet,kmin,kmax):\n",
    "    testSize = testSet.shape[0];\n",
    "    dims = testSet.shape[1] - 1\n",
    "    bestRMSE = 0.0;\n",
    "    bestK = 0.0\n",
    "    for k in range(kmin,kmax):\n",
    "        print(k)\n",
    "        currRMSE = 0.0\n",
    "        for i in range(0,testSize):\n",
    "            neighbourDist = []\n",
    "            for index,example in enumerate(trainingSet):\n",
    "                distance = calcDistance(example[:-1],testSet[i,:-1])\n",
    "                neighbourDist.append((distance,index))\n",
    "            sortedNeighbourDist = sorted(neighbourDist)\n",
    "            kNearest = sortedNeighbourDist[:k]\n",
    "            nearestLabels = [trainingSet[j][1] for distance,j in kNearest]\n",
    "            estimate = sum(nearestLabels) / len(nearestLabels)\n",
    "            currRMSE += ((estimate - testSet[i,dims]) ** 2)\n",
    "        currRMSE = currRMSE / testSize;\n",
    "        currRMSE = math.sqrt(currRMSE)\n",
    "        print('Current RMSE')\n",
    "        print(currRMSE)\n",
    "        if (currRMSE < bestRMSE) or (bestRMSE == 0.0):        \n",
    "            bestRMSE = currRMSE\n",
    "            bestK = k\n",
    "    print('Best K value is:', bestK)\n",
    "    print('With best RMSE of', bestRMSE)"
   ]
  },
  {
   "cell_type": "code",
   "execution_count": 4,
   "metadata": {},
   "outputs": [],
   "source": [
    "def buildToyDataSet():\n",
    "    ToyDat = np.random.uniform(low=0.1, high=1, size=(200,2))\n",
    "    fig = plt.figure()\n",
    "    ax = fig.add_subplot(1, 1, 1)\n",
    "    for i in range(0,200):\n",
    "        ToyDat[i,1] = ToyDat[i,0] * 2.5 + np.random.uniform(low=0.05,high=0.35,size=(1))\n",
    "        plot1 = ax.scatter(ToyDat[i,0], ToyDat[i,1], alpha=0.8, c='red', edgecolors='none', s=30,marker=\"*\")\n",
    "    ToyTest = np.random.uniform(low=0.1, high=1, size=(10,2))\n",
    "    for i in range(0,10):\n",
    "        ToyTest[i,1] = ToyTest[i,0] * 2.5+ np.random.uniform(low=0.05,high=0.35,size=(1))\n",
    "        plot2 = ax.scatter(ToyTest[i,0], ToyTest[i,1], alpha=0.8, c='blue', edgecolors='none', s=30,marker=\"+\")\n",
    "    plot1.set_label('Training data')\n",
    "    plot2.set_label('Test data')\n",
    "    ax.legend()\n",
    "    plt.show()\n",
    "    return ToyDat, ToyTest"
   ]
  },
  {
   "cell_type": "code",
   "execution_count": 5,
   "metadata": {
    "scrolled": true
   },
   "outputs": [
    {
     "data": {
      "image/png": "[encoded data removed]",
      "text/plain": [
       "<Figure size 432x288 with 1 Axes>"
      ]
     },
     "metadata": {
      "needs_background": "light"
     },
     "output_type": "display_data"
    },
    {
     "name": "stdout",
     "output_type": "stream",
     "text": [
      "1\n",
      "Current RMSE\n",
      "0.08146164795149195\n",
      "2\n",
      "Current RMSE\n",
      "0.07029297704233921\n",
      "3\n",
      "Current RMSE\n",
      "0.0816301138891535\n",
      "4\n",
      "Current RMSE\n",
      "0.07035047905958151\n",
      "5\n",
      "Current RMSE\n",
      "0.07428580916421486\n",
      "6\n",
      "Current RMSE\n",
      "0.07071280667528108\n",
      "7\n",
      "Current RMSE\n",
      "0.06730235396092067\n",
      "8\n",
      "Current RMSE\n",
      "0.06404199345287989\n",
      "9\n",
      "Current RMSE\n",
      "0.06264465832764075\n",
      "10\n",
      "Current RMSE\n",
      "0.0604741128878353\n",
      "11\n",
      "Current RMSE\n",
      "0.06151789577151628\n",
      "12\n",
      "Current RMSE\n",
      "0.06326279977991321\n",
      "13\n",
      "Current RMSE\n",
      "0.07064107967025973\n",
      "14\n",
      "Current RMSE\n",
      "0.0682546707554999\n",
      "15\n",
      "Current RMSE\n",
      "0.075621311818799\n",
      "16\n",
      "Current RMSE\n",
      "0.07667881331492347\n",
      "17\n",
      "Current RMSE\n",
      "0.07675206535062055\n",
      "18\n",
      "Current RMSE\n",
      "0.07602968642956084\n",
      "19\n",
      "Current RMSE\n",
      "0.07405809090717774\n",
      "Best K value is: 10\n",
      "With best RMSE of 0.0604741128878353\n"
     ]
    }
   ],
   "source": [
    "trainingToy,testingToy  = buildToyDataSet();\n",
    "testDataSet(trainingToy,testingToy,1,20)"
   ]
  },
  {
   "cell_type": "code",
   "execution_count": 12,
   "metadata": {},
   "outputs": [
    {
     "name": "stdout",
     "output_type": "stream",
     "text": [
      "7\n",
      "Current RMSE\n",
      "33.19317016968418\n",
      "Best K value is: 7\n",
      "With best RMSE of 33.19317016968418\n"
     ]
    }
   ],
   "source": [
    "filename = '/Desktop/CM50264/sarcos_inv.csv'\n",
    "dataset = list()\n",
    "with open(filename,'r') as file:\n",
    "    csv_reader = reader(file)\n",
    "    for row in csv_reader:\n",
    "        if not row:\n",
    "            continue\n",
    "        dataset.append(row)\n",
    "dataset = np.asarray(dataset, dtype=np.float32)\n",
    "dims = dataset.shape[1]\n",
    "testDataset = np.zeros([100,dims])\n",
    "sampleDataset = np.zeros([20000,dims])\n",
    "for i in range(1000,21000):\n",
    "    sampleDataset[(i-1000),:] = dataset[(i-1000),:]\n",
    "for i in range(0,100):\n",
    "    testDataset[i,:] = dataset[i,:]\n",
    "testDataSet(sampleDataset,testDataset,7,8)"
   ]
  },
  {
   "cell_type": "code",
   "execution_count": null,
   "metadata": {},
   "outputs": [],
   "source": []
  }
 ],
 "metadata": {
  "kernelspec": {
   "display_name": "Python 3",
   "language": "python",
   "name": "python3"
  },
  "language_info": {
   "codemirror_mode": {
    "name": "ipython",
    "version": 3
   },
   "file_extension": ".py",
   "mimetype": "text/x-python",
   "name": "python",
   "nbconvert_exporter": "python",
   "pygments_lexer": "ipython3",
   "version": "3.7.2"
  }
 },
 "nbformat": 4,
 "nbformat_minor": 2
}
