{
 "cells": [
  {
   "cell_type": "code",
   "execution_count": 1,
   "metadata": {},
   "outputs": [],
   "source": [
    "import matplotlib.pyplot as plt\n",
    "import numpy as np\n",
    "import tensorflow as tf\n",
    "import math \n",
    "from csv import reader \n",
    "from collections import Counter\n"
   ]
  },
  {
   "cell_type": "code",
   "execution_count": 2,
   "metadata": {},
   "outputs": [],
   "source": [
    "def testDataSet(trainingSet,testSet):\n",
    "    print(trainingSet.shape)\n",
    "    print(testSet.shape)\n",
    "    testSize = testSet.shape[0]\n",
    "    dims = testSet.shape[1] - 1\n",
    "    dimM = list()\n",
    "    dimC = list()\n",
    "    predictions = list()\n",
    "    meanY = np.mean(trainingSet[:,dims])\n",
    "    for i in range(0,dims):\n",
    "        meanX = np.mean(trainingSet[:,i])\n",
    "        sxy = 0\n",
    "        sxx = 0\n",
    "        for j in range(0,dims):\n",
    "            sxy += (trainingSet[j,i] - meanX) * (trainingSet[j,dims]-meanY)\n",
    "            sxx += (trainingSet[j,i] - meanX) **2\n",
    "        dimM.append(sxy/sxx)\n",
    "        dimC.append(meanY - (dimM[i] * meanX))\n",
    "    RMSE = 0.0;\n",
    "    for i in range(0,testSize):\n",
    "        yPredVal = 0\n",
    "        for j in range(0,dims):\n",
    "            yPredVal += (dimM[j]*testSet[i,j])+dimC[j]\n",
    "        yPredVal = yPredVal/dims\n",
    "        yVal = testSet[i,dims]\n",
    "        RMSE += ((yPredVal - yVal) **2)\n",
    "    RMSE = RMSE / testSize\n",
    "    RMSE = math.sqrt(RMSE)\n",
    "    print('RMSE: ',RMSE)\n",
    "    return dimM, dimC\n",
    "     "
   ]
  },
  {
   "cell_type": "code",
   "execution_count": 3,
   "metadata": {},
   "outputs": [],
   "source": [
    "def buildToyDataSet():\n",
    "    ToyDat = np.random.uniform(low=0.1, high=1, size=(200,2))\n",
    "    fig = plt.figure()\n",
    "    ax = fig.add_subplot(1, 1, 1)\n",
    "    for i in range(0,200):\n",
    "        ToyDat[i,1] = ToyDat[i,0] * 2.5 + np.random.uniform(low=0.05,high=0.35,size=(1))\n",
    "        plot1 = ax.scatter(ToyDat[i,0], ToyDat[i,1], alpha=0.8, c='red', edgecolors='none', s=30,marker=\"*\")\n",
    "    ToyTest = np.random.uniform(low=0.1, high=1, size=(10,2))\n",
    "    for i in range(0,10):\n",
    "        ToyTest[i,1] = ToyTest[i,0] * 2.5+ np.random.uniform(low=0.05,high=0.35,size=(1))\n",
    "        plot2 = ax.scatter(ToyTest[i,0], ToyTest[i,1], alpha=0.8, c='blue', edgecolors='none', s=30,marker=\"+\")\n",
    "    plot1.set_label('Training data')\n",
    "    plot2.set_label('Test data')\n",
    "    ax.legend()\n",
    "    return ToyDat, ToyTest"
   ]
  },
  {
   "cell_type": "code",
   "execution_count": 4,
   "metadata": {},
   "outputs": [
    {
     "name": "stdout",
     "output_type": "stream",
     "text": [
      "(20000, 22)\n",
      "(100, 22)\n",
      "RMSE:  21.972021039102803\n"
     ]
    }
   ],
   "source": [
    "filename = '/Desktop/CM50264/sarcos_inv.csv'\n",
    "dataset = list()\n",
    "with open(filename,'r') as file:\n",
    "    csv_reader = reader(file)\n",
    "    for row in csv_reader:\n",
    "        if not row:\n",
    "            continue\n",
    "        dataset.append(row)\n",
    "dataset = np.asarray(dataset, dtype=np.float32)\n",
    "dims = dataset.shape[1]\n",
    "testDataset = np.zeros([100,dims])\n",
    "sampleDataset = np.zeros([20000,dims])\n",
    "for i in range(1000,21000):\n",
    "    sampleDataset[(i-1000),:] = dataset[(i-1000),:]\n",
    "for i in range(0,100):\n",
    "    testDataset[i,:] = dataset[i,:]\n",
    "dimM, dimC = testDataSet(sampleDataset,testDataset)"
   ]
  },
  {
   "cell_type": "code",
   "execution_count": 5,
   "metadata": {},
   "outputs": [
    {
     "name": "stdout",
     "output_type": "stream",
     "text": [
      "(200, 2)\n",
      "(10, 2)\n",
      "RMSE:  0.09601969051276356\n"
     ]
    },
    {
     "data": {
      "image/png": "[encoded data removed]",
      "text/plain": [
       "<Figure size 432x288 with 1 Axes>"
      ]
     },
     "metadata": {
      "needs_background": "light"
     },
     "output_type": "display_data"
    }
   ],
   "source": [
    "trainingToy,testingToy  = buildToyDataSet();\n",
    "dimM, dimC = testDataSet(trainingToy,testingToy)\n",
    "x = np.linspace(0.1,1).reshape(-1,1)\n",
    "plt.plot(x,(dimM[0]*x+dimC[0]))\n",
    "plt.show()"
   ]
  },
  {
   "cell_type": "code",
   "execution_count": null,
   "metadata": {},
   "outputs": [],
   "source": []
  }
 ],
 "metadata": {
  "kernelspec": {
   "display_name": "Python 3",
   "language": "python",
   "name": "python3"
  },
  "language_info": {
   "codemirror_mode": {
    "name": "ipython",
    "version": 3
   },
   "file_extension": ".py",
   "mimetype": "text/x-python",
   "name": "python",
   "nbconvert_exporter": "python",
   "pygments_lexer": "ipython3",
   "version": "3.7.2"
  }
 },
 "nbformat": 4,
 "nbformat_minor": 2
}
